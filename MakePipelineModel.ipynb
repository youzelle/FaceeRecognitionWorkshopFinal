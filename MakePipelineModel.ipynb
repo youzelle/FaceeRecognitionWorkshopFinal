{
 "cells": [
  {
   "cell_type": "code",
   "execution_count": null,
   "metadata": {},
   "outputs": [],
   "source": [
    "import numpy as np\n",
    "import pandas as pd\n",
    "import matplotlib.pyplot as plt\n",
    "import sklearn\n",
    "import pickle\n",
    "import cv2\n",
    "%matplotlib inline"
   ]
  },
  {
   "cell_type": "code",
   "execution_count": null,
   "metadata": {},
   "outputs": [],
   "source": [
    "# load all the models\n",
    "haar = cv2.CascadeClassifier('./model/haarcascade_frontalface_default.xml')\n",
    "# pickle files\n",
    "mean  = pickle.load(open('./model/mean_preprocess.pickle','rb'))\n",
    "model_svm  = pickle.load(open('./model/model_svm.pickle','rb'))\n",
    "model_pca  = pickle.load(open('./model/pca_50.pickle','rb'))\n",
    "\n",
    "print('Model loaded sucessfully')"
   ]
  },
  {
   "cell_type": "code",
   "execution_count": null,
   "metadata": {},
   "outputs": [],
   "source": []
  },
  {
   "cell_type": "code",
   "execution_count": null,
   "metadata": {},
   "outputs": [],
   "source": [
    "gender_pre = ['Male','Female']\n",
    "font = cv2.FONT_HERSHEY_SIMPLEX"
   ]
  },
  {
   "cell_type": "code",
   "execution_count": null,
   "metadata": {},
   "outputs": [],
   "source": [
    "# define a pipeline function\n",
    "def pipeline_model(img,color='rgb'):\n",
    "    # step-2: convert into gray scale\n",
    "    if color == 'bgr':\n",
    "        gray = cv2.cvtColor(img,cv2.COLOR_BGR2GRAY)\n",
    "    else:\n",
    "        gray = cv2.cvtColor(img,cv2.COLOR_RGB2GRAY)\n",
    "    # step-3: crop the face (using haar cascase classifier)\n",
    "    faces = haar.detectMultiScale(gray,1.5,3)\n",
    "    for x,y,w,h in faces:\n",
    "        cv2.rectangle(img,(x,y),(x+w,y+h),(0,255,0),2) # drawing rectangle\n",
    "        roi = gray[y:y+h,x:x+w] # crop image\n",
    "        # step - 4: normalization (0-1)\n",
    "        roi = roi / 255.0\n",
    "        # step-5: resize images (100,100)\n",
    "        if roi.shape[1] > 100:\n",
    "            roi_resize = cv2.resize(roi,(100,100),cv2.INTER_AREA)\n",
    "        else:\n",
    "            roi_resize = cv2.resize(roi,(100,100),cv2.INTER_CUBIC)\n",
    "        # step-6: Flattening (1x10000)\n",
    "        roi_reshape = roi_resize.reshape(1,10000) # 1,-1\n",
    "        # step-7: subptract with mean\n",
    "        roi_mean = roi_reshape - mean\n",
    "        # step -8: get eigen image\n",
    "        eigen_image = model_pca.transform(roi_mean)\n",
    "        # step -9: pass to ml model (svm)\n",
    "        results = model_svm.predict_proba(eigen_image)[0]\n",
    "        # step -10:\n",
    "        predict = results.argmax() # 0 or 1 \n",
    "        score = results[predict]\n",
    "        # step -11:\n",
    "        text = \"%s : %0.2f\"%(gender_pre[predict],score)\n",
    "        cv2.putText(img,text,(x,y),font,1,(0,255,0),2)\n",
    "    return img"
   ]
  },
  {
   "cell_type": "code",
   "execution_count": null,
   "metadata": {},
   "outputs": [],
   "source": [
    "from PIL import Image"
   ]
  },
  {
   "cell_type": "code",
   "execution_count": null,
   "metadata": {},
   "outputs": [],
   "source": [
    "test_data_path = './data/oprah.jpeg'\n",
    "color = 'bgr'\n",
    "img = Image.open(test_data_path)\n",
    "img = np.array(img)\n",
    "img = pipeline_model(img)\n",
    "plt.imshow(img)"
   ]
  },
  {
   "cell_type": "markdown",
   "metadata": {},
   "source": [
    "# Apply pipepline to Video"
   ]
  },
  {
   "cell_type": "code",
   "execution_count": null,
   "metadata": {},
   "outputs": [],
   "source": [
    "cap = cv2.VideoCapture('./data/video.mp4')\n",
    "\n",
    "while True:\n",
    "    ret, frame = cap.read() # bgr\n",
    "    \n",
    "    if ret == False:\n",
    "        break\n",
    "    \n",
    "    frame = pipeline_model(frame,color='bgr')\n",
    "    \n",
    "    cv2.imshow('Gender Detector',frame)\n",
    "    if cv2.waitKey(10) == ord('s'): # press s to exit  --#esc key (27), \n",
    "        break\n",
    "        \n",
    "cv2.destroyAllWindows()\n",
    "cap.release()"
   ]
  }
 ],
 "metadata": {
  "kernelspec": {
   "display_name": "Python 3",
   "language": "python",
   "name": "python3"
  },
  "language_info": {
   "codemirror_mode": {
    "name": "ipython",
    "version": 3
   },
   "file_extension": ".py",
   "mimetype": "text/x-python",
   "name": "python",
   "nbconvert_exporter": "python",
   "pygments_lexer": "ipython3",
   "version": "3.8.3"
  }
 },
 "nbformat": 4,
 "nbformat_minor": 2
}
